{
  "nbformat": 4,
  "nbformat_minor": 0,
  "metadata": {
    "colab": {
      "name": "Bike Share UserType Classifiers.ipynb",
      "provenance": [],
      "authorship_tag": "ABX9TyPuO5//BnZ/RbGmYmFjFdNN",
      "include_colab_link": true
    },
    "kernelspec": {
      "name": "python3",
      "display_name": "Python 3"
    },
    "language_info": {
      "name": "python"
    }
  },
  "cells": [
    {
      "cell_type": "markdown",
      "metadata": {
        "id": "view-in-github",
        "colab_type": "text"
      },
      "source": [
        "<a href=\"https://colab.research.google.com/github/GrantMcCurdy/BikeShare/blob/main/Bike_Share_UserType_Classifiers.ipynb\" target=\"_parent\"><img src=\"https://colab.research.google.com/assets/colab-badge.svg\" alt=\"Open In Colab\"/></a>"
      ]
    },
    {
      "cell_type": "markdown",
      "source": [
        "##Data Cleaning"
      ],
      "metadata": {
        "id": "W805vEn6kBnf"
      }
    },
    {
      "cell_type": "code",
      "execution_count": 160,
      "metadata": {
        "id": "u2uFk3iVnt5i"
      },
      "outputs": [],
      "source": [
        "import pandas as pd\n",
        "import numpy as np\n",
        "import tensorflow as tf"
      ]
    },
    {
      "cell_type": "code",
      "source": [
        "df = pd.read_excel('/content/2020_10_Cleaned.xlsx')"
      ],
      "metadata": {
        "id": "BDfl44TAoZdH"
      },
      "execution_count": 161,
      "outputs": []
    },
    {
      "cell_type": "code",
      "source": [
        "df = df[['rideable_type', 'ride_length', 'started_at_time', 'ride_length', 'day_of_week', 'member_casual']].copy()"
      ],
      "metadata": {
        "id": "GeSwL1eFpDjB"
      },
      "execution_count": 162,
      "outputs": []
    },
    {
      "cell_type": "code",
      "source": [
        "ride_time = [] \n",
        "\n",
        "for i in range(len(df['started_at_time'])):\n",
        "  converted_time = df['started_at_time'][i].hour + df['started_at_time'][i].minute / 60.0\n",
        "  ride_time.append(converted_time)\n",
        "\n",
        "\n",
        "ride_period = []\n",
        "\n",
        "for i in range(len(ride_time)):\n",
        "  if ride_time[i] >= 0 and ride_time[i]  < 3:\n",
        "    ride_period.append('late night')\n",
        "  elif ride_time[i]  >= 3 and ride_time[i]  < 6:\n",
        "    ride_period.append('early morning')\n",
        "  elif ride_time[i]  >= 6 and ride_time[i]  < 9:\n",
        "    ride_period.append('late morning')\n",
        "  elif ride_time[i]  >= 9 and ride_time[i]  < 12:\n",
        "    ride_period.append('early day')\n",
        "  elif ride_time[i]  >= 12 and ride_time[i]  < 15:\n",
        "    ride_period.append('late dat')\n",
        "  elif ride_time[i] >= 15 and ride_time[i]  < 18:\n",
        "    ride_period.append('early evening')\n",
        "  elif ride_time[i]  >= 18 and ride_time[i]  < 21:\n",
        "    ride_period.append('late evening')\n",
        "  elif ride_time[i]  >= 21 and ride_time[i]  < 24:\n",
        "    ride_period.append('early night')\n",
        "  else:\n",
        "    ride_period.append('null')\n",
        "\n",
        "df['ride_period'] = ride_period"
      ],
      "metadata": {
        "id": "gZ6SzdhAA6hD"
      },
      "execution_count": 163,
      "outputs": []
    },
    {
      "cell_type": "code",
      "source": [
        "ride_day = []\n",
        "\n",
        "for i in range(len(df['day_of_week'])):\n",
        "  if df['day_of_week'][i] == 1:\n",
        "    ride_day.append('Mon')\n",
        "  elif df['day_of_week'][i] == 2:\n",
        "    ride_day.append('Tues')\n",
        "  elif df['day_of_week'][i] == 3:\n",
        "    ride_day.append('Wed')\n",
        "  elif df['day_of_week'][i] == 4:\n",
        "    ride_day.append('Thurs')\n",
        "  elif df['day_of_week'][i] == 5:\n",
        "    ride_day.append('Fri')\n",
        "  elif df['day_of_week'][i] == 6:\n",
        "    ride_day.append('Sat')\n",
        "  elif df['day_of_week'][i] == 7:\n",
        "    ride_day.append('Sun')\n",
        "  else:\n",
        "    ride_day.append('Null')\n",
        "    \n",
        "df['ride_day'] = ride_day"
      ],
      "metadata": {
        "id": "JurfZrekE2C4"
      },
      "execution_count": null,
      "outputs": []
    },
    {
      "cell_type": "code",
      "source": [
        "df = df[['rideable_type', 'ride_length', 'ride_period', 'ride_day', 'member_casual' ]]"
      ],
      "metadata": {
        "id": "MA7nrPmoEQSw"
      },
      "execution_count": null,
      "outputs": []
    },
    {
      "cell_type": "code",
      "source": [
        "df = df.loc[:,~df.columns.duplicated()]"
      ],
      "metadata": {
        "id": "07ftJn7RaVo8"
      },
      "execution_count": null,
      "outputs": []
    },
    {
      "cell_type": "markdown",
      "source": [
        "##Data Preprocessing"
      ],
      "metadata": {
        "id": "Lq8uZZhLqzfC"
      }
    },
    {
      "cell_type": "code",
      "source": [
        "#Data Preprocessing\n",
        "X = df.iloc[:, :-1].values\n",
        "y = df.iloc[:, -1].values"
      ],
      "metadata": {
        "id": "c8Njhcaxq1Qa"
      },
      "execution_count": null,
      "outputs": []
    },
    {
      "cell_type": "code",
      "source": [
        "#Label encode rideable_type column\n",
        "from sklearn.preprocessing import LabelEncoder\n",
        "le = LabelEncoder()\n",
        "X[:, 0] = le.fit_transform(X[:, 0])"
      ],
      "metadata": {
        "id": "HiNIs3IKq26a"
      },
      "execution_count": null,
      "outputs": []
    },
    {
      "cell_type": "code",
      "source": [
        "#Label encode member_casual\n",
        "from sklearn.preprocessing import LabelEncoder\n",
        "le = LabelEncoder()\n",
        "y = le.fit_transform(y)"
      ],
      "metadata": {
        "id": "weskEdjieFNI"
      },
      "execution_count": null,
      "outputs": []
    },
    {
      "cell_type": "code",
      "source": [
        "#One Hot Encode ride_period\n",
        "from sklearn.compose import ColumnTransformer\n",
        "from sklearn.preprocessing import OneHotEncoder\n",
        "ct = ColumnTransformer(transformers=[('encoder', OneHotEncoder(), [2])], remainder = 'passthrough')\n",
        "X = np.array(ct.fit_transform(X))"
      ],
      "metadata": {
        "id": "LuZZyhcMbi3p"
      },
      "execution_count": null,
      "outputs": []
    },
    {
      "cell_type": "code",
      "source": [
        "#One Hot Encode ride_day\n",
        "from sklearn.compose import ColumnTransformer\n",
        "from sklearn.preprocessing import OneHotEncoder\n",
        "ct = ColumnTransformer(transformers=[('encoder', OneHotEncoder(), [-1])], remainder = 'passthrough')\n",
        "X = np.array(ct.fit_transform(X))"
      ],
      "metadata": {
        "id": "EJL6uStYdiEY"
      },
      "execution_count": null,
      "outputs": []
    },
    {
      "cell_type": "code",
      "source": [
        "#Splitting dataset into Training and Test\n",
        "from sklearn.model_selection import train_test_split\n",
        "X_train, X_test, y_train, y_test = train_test_split(X, y, test_size = 0.2)"
      ],
      "metadata": {
        "id": "K_Ja5lrZdVi_"
      },
      "execution_count": null,
      "outputs": []
    },
    {
      "cell_type": "code",
      "source": [
        "#Feature Scaling\n",
        "from sklearn.preprocessing import StandardScaler\n",
        "sc = StandardScaler()\n",
        "X_train = sc.fit_transform(X_train)\n",
        "X_test = sc.transform(X_test)"
      ],
      "metadata": {
        "id": "xnmJrWcfeeVj"
      },
      "execution_count": null,
      "outputs": []
    },
    {
      "cell_type": "markdown",
      "source": [
        "##ANN Classifier"
      ],
      "metadata": {
        "id": "orE6MyLJj8Zl"
      }
    },
    {
      "cell_type": "code",
      "source": [
        "#Initializing ANN\n",
        "ann = tf.keras.models.Sequential()"
      ],
      "metadata": {
        "id": "uLd4G47Meqpg"
      },
      "execution_count": null,
      "outputs": []
    },
    {
      "cell_type": "code",
      "source": [
        "#Adding the input layer and the first hidden layer\n",
        "ann.add(tf.keras.layers.Dense(units = 12, activation = 'relu'))"
      ],
      "metadata": {
        "id": "J3epscRze1z5"
      },
      "execution_count": null,
      "outputs": []
    },
    {
      "cell_type": "code",
      "source": [
        "#Adding the input layer and the first hidden layer\n",
        "ann.add(tf.keras.layers.Dense(units = 12, activation = 'relu'))"
      ],
      "metadata": {
        "id": "URstnBK6iEEs"
      },
      "execution_count": null,
      "outputs": []
    },
    {
      "cell_type": "code",
      "source": [
        "#Adding the input layer and the first hidden layer\n",
        "ann.add(tf.keras.layers.Dense(units = 12, activation = 'relu'))"
      ],
      "metadata": {
        "id": "zLl8eoe0fKo1"
      },
      "execution_count": null,
      "outputs": []
    },
    {
      "cell_type": "code",
      "source": [
        "#Adding the output layer\n",
        "ann.add(tf.keras.layers.Dense(units = 1, activation = 'sigmoid'))"
      ],
      "metadata": {
        "id": "0yXRt2yGfOgf"
      },
      "execution_count": null,
      "outputs": []
    },
    {
      "cell_type": "code",
      "source": [
        "#Compiling the ANN\n",
        "ann.compile(optimizer = 'adam', loss = 'binary_crossentropy', metrics = ['accuracy'])"
      ],
      "metadata": {
        "id": "HnKuvNUZfUJQ"
      },
      "execution_count": null,
      "outputs": []
    },
    {
      "cell_type": "code",
      "source": [
        "#training the ANN on the Training Set\n",
        "ann.fit(X_train, y_train, batch_size = 32, epochs = 30)"
      ],
      "metadata": {
        "id": "4NfWETwEfhjb"
      },
      "execution_count": null,
      "outputs": []
    },
    {
      "cell_type": "code",
      "source": [
        "#Predicting Test set results\n",
        "y_pred_ann = ann.predict(X_test)\n",
        "y_pred_ann = (y_pred > 0.5)"
      ],
      "metadata": {
        "id": "C7yLUmNOl81r"
      },
      "execution_count": null,
      "outputs": []
    },
    {
      "cell_type": "code",
      "source": [
        "#Making the Confusion Matrix\n",
        "from sklearn.metrics import confusion_matrix, accuracy_score\n",
        "cm = confusion_matrix(y_test, y_pred_ann)\n",
        "print(cm)\n",
        "accuracy_score(y_test, y_pred_ann)"
      ],
      "metadata": {
        "id": "hdCmXF9flqyp"
      },
      "execution_count": null,
      "outputs": []
    },
    {
      "cell_type": "markdown",
      "source": [
        "##Random Forest Classifier"
      ],
      "metadata": {
        "id": "ZRsvUqTCmVX0"
      }
    },
    {
      "cell_type": "code",
      "source": [
        "from sklearn.ensemble import RandomForestClassifier\n",
        "rfw_classifier = RandomForestClassifier(n_estimators = 10, criterion = 'entropy')\n",
        "rfw_classifier.fit(X_train, y_train)"
      ],
      "metadata": {
        "id": "ln21N3zPmNBZ"
      },
      "execution_count": null,
      "outputs": []
    },
    {
      "cell_type": "code",
      "source": [
        "y_pred_rfw = rfw_classifier.predict(X_test)"
      ],
      "metadata": {
        "id": "1xSMEktCngVc"
      },
      "execution_count": null,
      "outputs": []
    },
    {
      "cell_type": "code",
      "source": [
        "#Confusion Matrix and Accuracy\n",
        "from sklearn.metrics import confusion_matrix, accuracy_score\n",
        "cm = confusion_matrix(y_test, y_pred_rfw)\n",
        "print(cm)\n",
        "accuracy_score(y_test, y_pred_rfw)"
      ],
      "metadata": {
        "id": "dsUVkGHanTKM"
      },
      "execution_count": null,
      "outputs": []
    },
    {
      "cell_type": "markdown",
      "source": [
        "##Decision Tree Classifier"
      ],
      "metadata": {
        "id": "D2WFhIabnx5I"
      }
    },
    {
      "cell_type": "code",
      "source": [
        "from sklearn.tree import DecisionTreeClassifier\n",
        "dt_classifier = DecisionTreeClassifier(criterion = 'entropy')\n",
        "dt_classifier.fit(X_train, y_train)"
      ],
      "metadata": {
        "id": "UsiAf7FBnzeG"
      },
      "execution_count": null,
      "outputs": []
    },
    {
      "cell_type": "code",
      "source": [
        "y_pred_dt = dt_classifier.predict(X_test)"
      ],
      "metadata": {
        "id": "Foi9y7vRoRQ0"
      },
      "execution_count": null,
      "outputs": []
    },
    {
      "cell_type": "code",
      "source": [
        "#Confusion Matrix and Accuracy\n",
        "from sklearn.metrics import confusion_matrix, accuracy_score\n",
        "cm = confusion_matrix(y_test, y_pred_dt)\n",
        "print(cm)\n",
        "accuracy_score(y_test, y_pred_dt)"
      ],
      "metadata": {
        "id": "A2xvcKY7oTbD"
      },
      "execution_count": null,
      "outputs": []
    },
    {
      "cell_type": "markdown",
      "source": [
        "Out of the models tested, ANN is the most accurate with a score of almost .70 (a decent model)."
      ],
      "metadata": {
        "id": "czOC7je6ovy-"
      }
    }
  ]
}
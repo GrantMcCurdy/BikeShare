{
  "nbformat": 4,
  "nbformat_minor": 0,
  "metadata": {
    "colab": {
      "name": "Converting Lat and Lon to Zipcodes.ipynb",
      "provenance": [],
      "collapsed_sections": [],
      "authorship_tag": "ABX9TyPGmMt4WpKzzaVSaTT/3MCj",
      "include_colab_link": true
    },
    "kernelspec": {
      "name": "python3",
      "display_name": "Python 3"
    },
    "language_info": {
      "name": "python"
    }
  },
  "cells": [
    {
      "cell_type": "markdown",
      "metadata": {
        "id": "view-in-github",
        "colab_type": "text"
      },
      "source": [
        "<a href=\"https://colab.research.google.com/github/GrantMcCurdy/BikeShare/blob/main/Converting_Lat_and_Lon_to_Zipcodes.ipynb\" target=\"_parent\"><img src=\"https://colab.research.google.com/assets/colab-badge.svg\" alt=\"Open In Colab\"/></a>"
      ]
    },
    {
      "cell_type": "code",
      "source": [
        "import pandas as pd\n",
        "from geopy.geocoders import Nominatim"
      ],
      "metadata": {
        "id": "P-u_UY5dDXGn"
      },
      "execution_count": 2,
      "outputs": []
    },
    {
      "cell_type": "code",
      "source": [
        "df = pd.read_excel('/content/2020_10_Cleaned.xlsx')"
      ],
      "metadata": {
        "id": "aAOd8yHFOQbf"
      },
      "execution_count": 4,
      "outputs": []
    },
    {
      "cell_type": "code",
      "source": [
        "df['lat'] = df['start_lat'].round(2).astype(str)\n",
        "df['lon'] = df['start_lng'].round(2).astype(str)\n",
        "df['space'] = ', '\n",
        "df['geopoint'] = df['lat'] + df['space'] + df['lon']"
      ],
      "metadata": {
        "id": "EWnPQsO0Q5oI"
      },
      "execution_count": 5,
      "outputs": []
    },
    {
      "cell_type": "code",
      "source": [
        "#Getting a sample for visualization in Tableau\n",
        "df_sample = df.sample(n = 384, replace = False) #n = 384 for 95% confidence with 5% MoE\n",
        "df_sample = df_sample.reset_index()"
      ],
      "metadata": {
        "id": "QmWiU65rc2G4"
      },
      "execution_count": 119,
      "outputs": []
    },
    {
      "cell_type": "code",
      "source": [
        "geolocator = Nominatim(user_agent='geoapiExercises')"
      ],
      "metadata": {
        "id": "Mmjyp-HySRmt"
      },
      "execution_count": 96,
      "outputs": []
    },
    {
      "cell_type": "code",
      "source": [
        "zipcodes = []\n",
        "\n",
        "for i in range(len(df_sample['geopoint'])):\n",
        "    location = geolocator.reverse(df_sample['geopoint'][i])\n",
        "    data = location.raw\n",
        "    zipcodes.append(data['address']['postcode'])\n",
        "\n",
        "df_sample['zipcodes'] = zipcodes"
      ],
      "metadata": {
        "id": "Es0XUd0XTRgn"
      },
      "execution_count": null,
      "outputs": []
    },
    {
      "cell_type": "code",
      "source": [
        "df_sample.to_excel('2020.10.sample.xlsx')"
      ],
      "metadata": {
        "id": "BWq0khvmg6gK"
      },
      "execution_count": 135,
      "outputs": []
    }
  ]
}